{
  "nbformat": 4,
  "nbformat_minor": 0,
  "metadata": {
    "colab": {
      "name": "ME592_HW4.ipynb",
      "provenance": [],
      "machine_shape": "hm",
      "collapsed_sections": [
        "SjPU41wqt5z3",
        "PsaiW7wc4aEI",
        "ay6ndMV64eDh",
        "6NljJ79-u8Ex",
        "DBK97snQVbbV",
        "uL0D2WRBV6r0",
        "4rkbtLWqZIPA",
        "lqy7uhCGcvom"
      ],
      "toc_visible": true,
      "include_colab_link": true
    },
    "kernelspec": {
      "name": "python3",
      "display_name": "Python 3"
    },
    "language_info": {
      "name": "python"
    },
    "accelerator": "GPU"
  },
  "cells": [
    {
      "cell_type": "markdown",
      "metadata": {
        "id": "view-in-github",
        "colab_type": "text"
      },
      "source": [
        "<a href=\"https://colab.research.google.com/github/abinayaa123/ME592/blob/main/ME592_ESHM_HW4.ipynb\" target=\"_parent\"><img src=\"https://colab.research.google.com/assets/colab-badge.svg\" alt=\"Open In Colab\"/></a>"
      ]
    },
    {
      "cell_type": "markdown",
      "source": [
        "# ME592 HW04: Engineering Systems Health Monitoring"
      ],
      "metadata": {
        "id": "SjPU41wqt5z3"
      }
    },
    {
      "cell_type": "markdown",
      "source": [
        "April 18, 2022\n",
        "\n",
        "Casey Robinson (Task 1), Henry Croll (Task 1), Abinayaa Dhanagopal (Task 2), Nianyu Jiang (Task 2), Timilehin Ayanlade (Task 2)\n",
        "\n",
        "Homework was divided by task, with each team member working on the entirety of that task, then collaborating/combining with the other team member(s) assigned to that task. Ultimately, entire team reviewed code for full homework."
      ],
      "metadata": {
        "id": "xzWjH2rft0lQ"
      }
    },
    {
      "cell_type": "code",
      "execution_count": null,
      "metadata": {
        "colab": {
          "base_uri": "https://localhost:8080/"
        },
        "id": "zXHiaGlLC_BJ",
        "outputId": "396ea934-089c-4da9-e78c-07bb6f32311c"
      },
      "outputs": [
        {
          "output_type": "stream",
          "name": "stdout",
          "text": [
            "Requirement already satisfied: mat73 in /usr/local/lib/python3.7/dist-packages (0.59)\n",
            "Requirement already satisfied: h5py in /usr/local/lib/python3.7/dist-packages (from mat73) (3.1.0)\n",
            "Requirement already satisfied: numpy in /usr/local/lib/python3.7/dist-packages (from mat73) (1.21.5)\n",
            "Requirement already satisfied: cached-property in /usr/local/lib/python3.7/dist-packages (from h5py->mat73) (1.5.2)\n"
          ]
        }
      ],
      "source": [
        "!pip install mat73"
      ]
    },
    {
      "cell_type": "code",
      "source": [
        "from google.colab import drive\n",
        "drive.mount('/content/drive')"
      ],
      "metadata": {
        "colab": {
          "base_uri": "https://localhost:8080/"
        },
        "id": "bb3UGUFkkn4u",
        "outputId": "cc389fd2-2477-4578-a172-7616e3099de9"
      },
      "execution_count": null,
      "outputs": [
        {
          "output_type": "stream",
          "name": "stdout",
          "text": [
            "Drive already mounted at /content/drive; to attempt to forcibly remount, call drive.mount(\"/content/drive\", force_remount=True).\n"
          ]
        }
      ]
    },
    {
      "cell_type": "code",
      "source": [
        "import mat73\n",
        "import numpy as np\n",
        "from PIL import Image as im\n",
        "import cv2\n",
        "from google.colab.patches import cv2_imshow"
      ],
      "metadata": {
        "id": "94bD09BUNK-v"
      },
      "execution_count": null,
      "outputs": []
    },
    {
      "cell_type": "code",
      "source": [
        "#Abinayaa's loadmat:\n",
        "#combustion_img_13 = mat73.loadmat('/content/drive/MyDrive/ME592/Aditya_data/combustion_img_13.mat')\n",
        "\n",
        "#Casey's loadmat:\n",
        "combustion_img_13 = mat73.loadmat('/content/drive/My Drive/ME592/combustion_img_13.mat')"
      ],
      "metadata": {
        "id": "zifwvGsRNW70"
      },
      "execution_count": null,
      "outputs": []
    },
    {
      "cell_type": "code",
      "source": [
        "%cd /content/drive/MyDrive/ME592/\n",
        "!ls"
      ],
      "metadata": {
        "colab": {
          "base_uri": "https://localhost:8080/"
        },
        "id": "rpBUwxAa5uZL",
        "outputId": "bada969f-ae68-4f3b-950b-c9a5dbe53391"
      },
      "execution_count": null,
      "outputs": [
        {
          "output_type": "stream",
          "name": "stdout",
          "text": [
            "/content/drive/.shortcut-targets-by-id/14A9iw12Bc8xWO_3nrziSGEk1uDWkLJ3b/ME592\n",
            "'3D CNN files'\t Aditya_data  'Assignment 1'  'Assignment 2'   Models\n"
          ]
        }
      ]
    },
    {
      "cell_type": "markdown",
      "source": [
        "# Preprocessing"
      ],
      "metadata": {
        "id": "PsaiW7wc4aEI"
      }
    },
    {
      "cell_type": "code",
      "source": [
        "test_set_x = combustion_img_13['test_set_x']\n",
        "# (18000,25000) - appears to be 18000 images\n",
        "test_set_y = combustion_img_13['test_set_y']\n",
        "# (18000,) - single array of 18000 entrys; assume stable = 1, unstable = 0\n",
        "train_set_x = combustion_img_13['train_set_x']\n",
        "# (54000,25000) - appears to be 54000 images\n",
        "train_set_y = combustion_img_13['train_set_y']\n",
        "# (54000,) - single array of 54000 entrys; assume stable = 1, unstable = 0\n",
        "valid_set_x = combustion_img_13['valid_set_x']\n",
        "# (9000,25000) - appears to be 9000 images\n",
        "valid_set_y = combustion_img_13['valid_set_y']\n",
        "# (9000,) - single array of 9000 entrys; assume stable = 1, unstable = 0"
      ],
      "metadata": {
        "id": "FKjRJFdBN1kD"
      },
      "execution_count": null,
      "outputs": []
    },
    {
      "cell_type": "code",
      "source": [
        "# Create arrays of images\n",
        "# the array should be (XXX, 250, 100, 1)\n",
        "# Each image is a 25000 length array. Since the images are 250 x 100, it is\n",
        "# assumed that the images are grayscale. \n",
        "# Resource: https://www.geeksforgeeks.org/convert-a-numpy-array-to-an-image/?msclkid=66a28f83b67911ec9454a31c9393e7bb\n",
        "\n",
        "# Define a function to do this\n",
        "def create_image(array):\n",
        "\n",
        "  # Reshape array into desired resolution\n",
        "  array = np.reshape(array, (250,100))\n",
        "  return array"
      ],
      "metadata": {
        "id": "6vPEbZwcO42p"
      },
      "execution_count": null,
      "outputs": []
    },
    {
      "cell_type": "code",
      "source": [
        "# Test to make sure the image looks correct\n",
        "array = np.reshape(test_set_x[1], (250,100))\n",
        "image = im.fromarray(array)\n",
        "image"
      ],
      "metadata": {
        "colab": {
          "base_uri": "https://localhost:8080/",
          "height": 267
        },
        "id": "WdrAZkwdO7ng",
        "outputId": "b832bf58-f836-4f90-b3a7-3c6ba68bd110"
      },
      "execution_count": null,
      "outputs": [
        {
          "output_type": "execute_result",
          "data": {
            "text/plain": [
              "<PIL.Image.Image image mode=L size=100x250 at 0x7FD06C4D9690>"
            ],
            "image/png": "[encoded data removed]"
          },
          "metadata": {},
          "execution_count": 10
        }
      ]
    },
    {
      "cell_type": "code",
      "source": [
        "# Create arrays of images (x arrays)\n",
        "# Initialize arrays, each should be (XXX, 250, 100, 1)\n",
        "# Use float32 to save RAM\n",
        "\n",
        "test_x = np.float32(np.empty((len(test_set_x),250,100)))\n",
        "valid_x = np.float32(np.empty((len(valid_set_x),250,100)))\n",
        "train_x = np.float32(np.empty((len(train_set_x),250,100)))"
      ],
      "metadata": {
        "id": "Qm9iq-NAO_Oc"
      },
      "execution_count": null,
      "outputs": []
    },
    {
      "cell_type": "code",
      "source": [
        "# reshape arrays\n",
        "for k in range(len(test_set_x)):\n",
        " array = create_image(test_set_x[k])\n",
        " test_x[k] = array\n",
        "\n",
        "for k in range(len(valid_set_x)):\n",
        " array = create_image(valid_set_x[k])\n",
        " valid_x[k] = array\n",
        "\n",
        "for k in range(len(train_set_x)):\n",
        " array = create_image(train_set_x[k])\n",
        " train_x[k] = array\n",
        "\n",
        "test_y=test_set_y\n",
        "valid_y=valid_set_y\n",
        "train_y=train_set_y"
      ],
      "metadata": {
        "id": "HGbYMpVuQRt2"
      },
      "execution_count": null,
      "outputs": []
    },
    {
      "cell_type": "code",
      "source": [
        "# check array shapes to make sure as expected\n",
        "print(test_x.shape)\n",
        "print(test_y.shape)\n",
        "print(train_x.shape)\n",
        "print(train_y.shape)\n",
        "print(valid_x.shape)\n",
        "print(valid_y.shape)"
      ],
      "metadata": {
        "colab": {
          "base_uri": "https://localhost:8080/"
        },
        "id": "-BuCJHH8QW1z",
        "outputId": "29b3bca9-ddb0-4ae7-9a96-b2cb8e20f1d2"
      },
      "execution_count": null,
      "outputs": [
        {
          "output_type": "stream",
          "name": "stdout",
          "text": [
            "(18000, 250, 100)\n",
            "(18000,)\n",
            "(54000, 250, 100)\n",
            "(54000,)\n",
            "(9000, 250, 100)\n",
            "(9000,)\n"
          ]
        }
      ]
    },
    {
      "cell_type": "markdown",
      "source": [
        "# Task 1 Complete Dataset and 2D CNN Modeling"
      ],
      "metadata": {
        "id": "ay6ndMV64eDh"
      }
    },
    {
      "cell_type": "code",
      "source": [
        "import torch as th\n",
        "import torchvision\n",
        "import torchvision.transforms as transforms"
      ],
      "metadata": {
        "id": "8vP9bECvVgJZ"
      },
      "execution_count": null,
      "outputs": []
    },
    {
      "cell_type": "code",
      "source": [
        "# Seed the random generator to have reproducible results to make comparing \n",
        "# models easier\n",
        "seed = 42\n",
        "np.random.seed(seed)\n",
        "th.manual_seed(seed)\n",
        "\n",
        "if th.cuda.is_available():\n",
        "  # Make CuDNN Determinist\n",
        "  th.backends.cudnn.deterministic = True\n",
        "  th.cuda.manual_seed(seed)\n",
        "\n",
        "# Define default device, we should use the GPU (cuda) if available\n",
        "device = th.device(\"cuda\" if th.cuda.is_available() else \"cpu\")"
      ],
      "metadata": {
        "id": "2LZtR9ObX6_O"
      },
      "execution_count": null,
      "outputs": []
    },
    {
      "cell_type": "code",
      "source": [
        "import tensorflow as tf\n",
        "from tensorflow.keras import datasets, layers, models\n",
        "import matplotlib.pyplot as plt"
      ],
      "metadata": {
        "id": "AD1-olfjYXO9"
      },
      "execution_count": null,
      "outputs": []
    },
    {
      "cell_type": "code",
      "source": [
        "print(test_x.shape)\n",
        "print(test_y.shape)\n",
        "print(train_x.shape)\n",
        "print(train_y.shape)\n",
        "print(valid_x.shape)\n",
        "print(valid_y.shape)"
      ],
      "metadata": {
        "colab": {
          "base_uri": "https://localhost:8080/"
        },
        "id": "Ft-3Yr_tYa_b",
        "outputId": "0b03f86c-db78-4ad2-c3e4-d47ecda10124"
      },
      "execution_count": null,
      "outputs": [
        {
          "output_type": "stream",
          "name": "stdout",
          "text": [
            "(18000, 250, 100)\n",
            "(18000,)\n",
            "(54000, 250, 100)\n",
            "(54000,)\n",
            "(9000, 250, 100)\n",
            "(9000,)\n"
          ]
        }
      ]
    },
    {
      "cell_type": "code",
      "source": [
        "def create_model():\n",
        "  model= tf.keras.Sequential([\n",
        "            tf.keras.layers.Conv2D(50, (5, 2), strides=(5, 2),padding=\"same\",activation='relu', input_shape=(250, 100, 1)),\n",
        "            tf.keras.layers.MaxPooling2D((2, 2)),\n",
        "            tf.keras.layers.Conv2D(100, (2, 2), activation='relu'),\n",
        "            tf.keras.layers.MaxPooling2D((2, 2)),\n",
        "            tf.keras.layers.Flatten(),\n",
        "            tf.keras.layers.Dense(50, activation='relu'),\n",
        "            tf.keras.layers.Dense(25)                \n",
        "          ])\n",
        "  #adam = keras.optimizers.Adam(learning_rate=0.001)\n",
        "  #model.compile(loss='binary_crossentropy',optimizer='sgd',metrics=['accuracy'])\n",
        "  model.compile(optimizer='adam',\n",
        "              loss=tf.keras.losses.SparseCategoricalCrossentropy(from_logits=True),\n",
        "              metrics=['accuracy'])\n",
        "\n",
        "  return model\n",
        "\n",
        "with tf.device('/device:GPU:0'):\n",
        "#with tpu_strategy.scope():\n",
        "  model = create_model()\n",
        "\n",
        "model.summary()"
      ],
      "metadata": {
        "colab": {
          "base_uri": "https://localhost:8080/"
        },
        "id": "YWR2cGK4ZUJJ",
        "outputId": "8e560798-1010-435d-e65e-4ed964109616"
      },
      "execution_count": null,
      "outputs": [
        {
          "output_type": "stream",
          "name": "stdout",
          "text": [
            "Model: \"sequential\"\n",
            "_________________________________________________________________\n",
            " Layer (type)                Output Shape              Param #   \n",
            "=================================================================\n",
            " conv2d (Conv2D)             (None, 50, 50, 50)        550       \n",
            "                                                                 \n",
            " max_pooling2d (MaxPooling2D  (None, 25, 25, 50)       0         \n",
            " )                                                               \n",
            "                                                                 \n",
            " conv2d_1 (Conv2D)           (None, 24, 24, 100)       20100     \n",
            "                                                                 \n",
            " max_pooling2d_1 (MaxPooling  (None, 12, 12, 100)      0         \n",
            " 2D)                                                             \n",
            "                                                                 \n",
            " flatten (Flatten)           (None, 14400)             0         \n",
            "                                                                 \n",
            " dense (Dense)               (None, 50)                720050    \n",
            "                                                                 \n",
            " dense_1 (Dense)             (None, 25)                1275      \n",
            "                                                                 \n",
            "=================================================================\n",
            "Total params: 741,975\n",
            "Trainable params: 741,975\n",
            "Non-trainable params: 0\n",
            "_________________________________________________________________\n"
          ]
        }
      ]
    },
    {
      "cell_type": "code",
      "source": [
        "train_x=np.reshape(train_x,(54000,250,100,1))\n",
        "train_y=np.reshape(train_y,(54000,1))\n",
        "test_x=np.reshape(test_x,(18000, 250, 100,1))\n",
        "test_y=np.reshape(test_y,(18000,1))\n",
        "valid_x=np.reshape(valid_x,(9000, 250, 100,1))\n",
        "valid_y=np.reshape(valid_y,(9000,1))\n",
        "\n",
        "print(test_x.shape)\n",
        "print(test_y.shape)\n",
        "print(train_x.shape)\n",
        "print(train_y.shape)\n",
        "print(valid_x.shape)\n",
        "print(valid_y.shape)"
      ],
      "metadata": {
        "colab": {
          "base_uri": "https://localhost:8080/"
        },
        "id": "RIfYV9rVwXRl",
        "outputId": "79e3c274-cbe8-41cf-81f9-038033482d38"
      },
      "execution_count": null,
      "outputs": [
        {
          "output_type": "stream",
          "name": "stdout",
          "text": [
            "(18000, 250, 100, 1)\n",
            "(18000, 1)\n",
            "(54000, 250, 100, 1)\n",
            "(54000, 1)\n",
            "(9000, 250, 100, 1)\n",
            "(9000, 1)\n"
          ]
        }
      ]
    },
    {
      "cell_type": "code",
      "source": [
        "history = model.fit(train_x, train_y, epochs=10,batch_size=512,validation_data=(valid_x, valid_y),verbose=2)"
      ],
      "metadata": {
        "colab": {
          "base_uri": "https://localhost:8080/"
        },
        "id": "xjApUX78ZCW1",
        "outputId": "d305b8e7-3f4c-4b27-bacc-66d0c877e388"
      },
      "execution_count": null,
      "outputs": [
        {
          "output_type": "stream",
          "name": "stdout",
          "text": [
            "Epoch 1/10\n",
            "106/106 - 20s - loss: 0.9118 - accuracy: 0.9474 - val_loss: 0.0019 - val_accuracy: 0.9998 - 20s/epoch - 191ms/step\n",
            "Epoch 2/10\n",
            "106/106 - 7s - loss: 1.7200e-04 - accuracy: 1.0000 - val_loss: 2.1879e-04 - val_accuracy: 1.0000 - 7s/epoch - 66ms/step\n",
            "Epoch 3/10\n",
            "106/106 - 7s - loss: 3.4042e-05 - accuracy: 1.0000 - val_loss: 1.7892e-04 - val_accuracy: 1.0000 - 7s/epoch - 69ms/step\n",
            "Epoch 4/10\n",
            "106/106 - 7s - loss: 1.4952e-05 - accuracy: 1.0000 - val_loss: 1.0713e-04 - val_accuracy: 1.0000 - 7s/epoch - 66ms/step\n",
            "Epoch 5/10\n",
            "106/106 - 7s - loss: 7.2383e-06 - accuracy: 1.0000 - val_loss: 1.0313e-04 - val_accuracy: 1.0000 - 7s/epoch - 67ms/step\n",
            "Epoch 6/10\n",
            "106/106 - 7s - loss: 4.5199e-06 - accuracy: 1.0000 - val_loss: 8.7429e-05 - val_accuracy: 1.0000 - 7s/epoch - 68ms/step\n",
            "Epoch 7/10\n",
            "106/106 - 7s - loss: 3.0089e-06 - accuracy: 1.0000 - val_loss: 7.5428e-05 - val_accuracy: 1.0000 - 7s/epoch - 67ms/step\n",
            "Epoch 8/10\n",
            "106/106 - 7s - loss: 2.1010e-06 - accuracy: 1.0000 - val_loss: 6.2406e-05 - val_accuracy: 1.0000 - 7s/epoch - 67ms/step\n",
            "Epoch 9/10\n",
            "106/106 - 7s - loss: 1.5764e-06 - accuracy: 1.0000 - val_loss: 5.7095e-05 - val_accuracy: 1.0000 - 7s/epoch - 68ms/step\n",
            "Epoch 10/10\n",
            "106/106 - 7s - loss: 1.2190e-06 - accuracy: 1.0000 - val_loss: 5.7321e-05 - val_accuracy: 1.0000 - 7s/epoch - 69ms/step\n"
          ]
        }
      ]
    },
    {
      "cell_type": "code",
      "source": [
        "# plot history\n",
        "plt.plot(history.history['loss'], label='train')\n",
        "plt.plot(history.history['val_loss'], label='test')\n",
        "plt.legend()\n",
        "plt.show() "
      ],
      "metadata": {
        "colab": {
          "base_uri": "https://localhost:8080/",
          "height": 265
        },
        "id": "wj6w29aMt6xh",
        "outputId": "2a03513d-5425-4b0d-8c25-eac51bbcc7f1"
      },
      "execution_count": null,
      "outputs": [
        {
          "output_type": "display_data",
          "data": {
            "text/plain": [
              "<Figure size 432x288 with 1 Axes>"
            ],
            "image/png": "[encoded data removed]"
          },
          "metadata": {
            "needs_background": "light"
          }
        }
      ]
    },
    {
      "cell_type": "code",
      "source": [
        "%cd /content/drive/MyDrive/ME592/Models\n",
        "# serialize model to JSON\n",
        "model_json = model.to_json()\n",
        "with open(\"model_task1.json\", \"w\") as json_file:\n",
        "    json_file.write(model_json)\n",
        "# serialize weights to HDF5\n",
        "model.save_weights(\"model_task1.h5\")\n",
        "print(\"Saved model to disk\")"
      ],
      "metadata": {
        "colab": {
          "base_uri": "https://localhost:8080/"
        },
        "id": "VVWrmgBiyB2m",
        "outputId": "ad5f3e6f-fb62-44e0-b050-25191e7f4831"
      },
      "execution_count": null,
      "outputs": [
        {
          "output_type": "stream",
          "name": "stdout",
          "text": [
            "/content/drive/.shortcut-targets-by-id/14A9iw12Bc8xWO_3nrziSGEk1uDWkLJ3b/ME592/Models\n",
            "Saved model to disk\n"
          ]
        }
      ]
    },
    {
      "cell_type": "code",
      "source": [
        "y_prob=model.predict(test_x)\n",
        "predicted_y = y_prob.argmax(axis=-1)\n",
        "plt.plot(test_y)\n",
        "plt.plot(predicted_y)\n",
        "# check_acc=(test_y,np.round(predicted_y/100,0))\n",
        "# acc=np.sum(check_acc)/len(test_y)\n",
        "plt.show\n",
        "#print(acc)\n",
        "from sklearn.metrics import accuracy_score\n",
        "print(\"accuracy = \", accuracy_score(test_y, predicted_y))\n",
        "from sklearn.metrics import confusion_matrix\n",
        "print(\"confusion matrix = \") \n",
        "print(confusion_matrix(test_y, predicted_y))"
      ],
      "metadata": {
        "colab": {
          "base_uri": "https://localhost:8080/",
          "height": 334
        },
        "id": "cdDGuhzov0bJ",
        "outputId": "7fe55b5d-672d-4b89-b7d1-11e8f6289954"
      },
      "execution_count": null,
      "outputs": [
        {
          "output_type": "stream",
          "name": "stdout",
          "text": [
            "accuracy =  1.0\n",
            "confusion matrix = \n",
            "[[10000     0]\n",
            " [    0  8000]]\n"
          ]
        },
        {
          "output_type": "display_data",
          "data": {
            "text/plain": [
              "<Figure size 432x288 with 1 Axes>"
            ],
            "image/png": "[encoded data removed]"
          },
          "metadata": {
            "needs_background": "light"
          }
        }
      ]
    },
    {
      "cell_type": "markdown",
      "source": [
        "Hyperparameters adjusted included number of convolutional layers, convolutional kernel size, stride shape, final dense layer output shape, and loss function.\n",
        "Settled on two convolutional layers (good trade-off between number of parameters (single convolutional layer results in too many parameters) and maintaining information (not over-convolving)), a kernel which has the same length/width ratio as the input image for the first layer and square/equal for the second, a stride equal to the kernel in the first layer, and a final dense layer containing 25 neurons using categorical cross entropy as loss. Also successful in using a single neuron in final dense layer when using binary cross entropy as loss, although this model is not shown/contained in the notebook, since it was no better or worse than this model.\n",
        "\n",
        "Model was able to accurately predict training, validation, and test data sets without error."
      ],
      "metadata": {
        "id": "jngFkQXrB0m0"
      }
    },
    {
      "cell_type": "markdown",
      "source": [
        "# Task 1 Reduced Dataset and 2D CNN Modeling, Simpler CNN Architecture"
      ],
      "metadata": {
        "id": "4WK_AJXA7f2w"
      }
    },
    {
      "cell_type": "markdown",
      "source": [
        "The model trained and evaluated in this section has fewer parameters than the preceding model and is trained on a smaller subset of data."
      ],
      "metadata": {
        "id": "37BHv31_txvn"
      }
    },
    {
      "cell_type": "code",
      "source": [
        "test_set_x = combustion_img_13['test_set_x']\n",
        "# (18000,25000) - appears to be 18000 images\n",
        "test_set_y = combustion_img_13['test_set_y']\n",
        "# (18000,) - single array of 18000 entrys; assume stable = 1, unstable = 0\n",
        "train_set_x = combustion_img_13['train_set_x']\n",
        "# (54000,25000) - appears to be 54000 images\n",
        "train_set_y = combustion_img_13['train_set_y']\n",
        "# (54000,) - single array of 54000 entrys; assume stable = 1, unstable = 0\n",
        "valid_set_x = combustion_img_13['valid_set_x']\n",
        "# (9000,25000) - appears to be 9000 images\n",
        "valid_set_y = combustion_img_13['valid_set_y']\n",
        "# (9000,) - single array of 9000 entrys; assume stable = 1, unstable = 0"
      ],
      "metadata": {
        "id": "kAYg_Yi87mOq"
      },
      "execution_count": null,
      "outputs": []
    },
    {
      "cell_type": "code",
      "source": [
        "# Create shorter train and validation sets to avoid RAM issues and also to\n",
        "#evaluate whether a model can be accurate with less than half of the training data\n",
        "\n",
        "#Method to reduce sets is to identify transitions between stability and instability in the\n",
        "#provided data sets, then select a fixed window around the transition\n",
        "#This ensures equal representation of the two classes (stable and unstable)\n",
        "train_window=2450\n",
        "valid_window=400\n",
        "train_transitions=np.where(train_set_y[:-1] != train_set_y[1:])[0]+1\n",
        "test_transitions=np.where(test_set_y[:-1] != test_set_y[1:])[0]+1\n",
        "valid_transitions=np.where(valid_set_y[:-1] != valid_set_y[1:])[0]+1\n",
        "reduced_train_set_x=[]\n",
        "reduced_train_set_y=[]\n",
        "reduced_test_set_x=[]\n",
        "reduced_test_set_y=[]\n",
        "reduced_valid_set_x=[]\n",
        "reduced_valid_set_y=[]\n",
        "\n",
        "for k in np.arange(0,len(train_transitions)):\n",
        "  if k==0:\n",
        "    reduced_train_set_x=train_set_x[train_transitions[k]-int(train_window/2):train_transitions[k]+int(train_window/2),:]\n",
        "    reduced_train_set_y=train_set_y[train_transitions[k]-int(train_window/2):train_transitions[k]+int(train_window/2),]\n",
        "  else:\n",
        "    reduced_train_set_x=np.concatenate((reduced_train_set_x,train_set_x[train_transitions[k]-int(train_window/2):train_transitions[k]+int(train_window/2),:]))\n",
        "    reduced_train_set_y=np.concatenate((reduced_train_set_y,train_set_y[train_transitions[k]-int(train_window/2):train_transitions[k]+int(train_window/2),]))\n",
        "\n",
        "reduced_test_set_x=test_set_x\n",
        "reduced_test_set_y=test_set_y\n",
        "\n",
        "for k in np.arange(0,len(valid_transitions)):\n",
        "  if k==0:\n",
        "    reduced_valid_set_x=valid_set_x[valid_transitions[k]-int(valid_window/2):valid_transitions[k]+int(valid_window/2),:]\n",
        "    reduced_valid_set_y=valid_set_y[valid_transitions[k]-int(valid_window/2):valid_transitions[k]+int(valid_window/2),]\n",
        "  else:\n",
        "    reduced_valid_set_x=np.concatenate((reduced_valid_set_x,valid_set_x[valid_transitions[k]-int(valid_window/2):valid_transitions[k]+int(valid_window/2),:]))\n",
        "    reduced_valid_set_y=np.concatenate((reduced_valid_set_y,valid_set_y[valid_transitions[k]-int(valid_window/2):valid_transitions[k]+int(valid_window/2),]))\n",
        "\n",
        "print(reduced_train_set_y.shape)\n",
        "print(reduced_valid_set_y.shape)\n",
        "print(reduced_test_set_y.shape)"
      ],
      "metadata": {
        "colab": {
          "base_uri": "https://localhost:8080/"
        },
        "id": "kJzUL2Cu7mDN",
        "outputId": "37894e63-394b-415a-87c2-d32335122ab4"
      },
      "execution_count": null,
      "outputs": [
        {
          "output_type": "stream",
          "name": "stdout",
          "text": [
            "(17150,)\n",
            "(2800,)\n",
            "(18000,)\n"
          ]
        }
      ]
    },
    {
      "cell_type": "code",
      "source": [
        "# Create arrays of images\n",
        "# the array should be (XXX, 250, 100, 1)\n",
        "# Each image is a 25000 length array. Since the images are 250 x 100, it is\n",
        "# assumed that the images are grayscale. \n",
        "# Resource: https://www.geeksforgeeks.org/convert-a-numpy-array-to-an-image/?msclkid=66a28f83b67911ec9454a31c9393e7bb\n",
        "\n",
        "# Define a function to do this\n",
        "def create_image(array):\n",
        "\n",
        "  # Reshape array into desired resolution\n",
        "  array = np.reshape(array, (250,100))\n",
        "  return array"
      ],
      "metadata": {
        "id": "ngYYmNcd7l2M"
      },
      "execution_count": null,
      "outputs": []
    },
    {
      "cell_type": "code",
      "source": [
        "# Test to make sure the image looks correct\n",
        "array = np.reshape(test_set_x[1], (250,100))\n",
        "image = im.fromarray(array)\n",
        "image"
      ],
      "metadata": {
        "colab": {
          "base_uri": "https://localhost:8080/",
          "height": 267
        },
        "id": "ON79jhhg70XG",
        "outputId": "7996617e-8bf1-482a-9be2-0ada2b4f8a67"
      },
      "execution_count": null,
      "outputs": [
        {
          "output_type": "execute_result",
          "data": {
            "text/plain": [
              "<PIL.Image.Image image mode=L size=100x250 at 0x7FAA5347A1D0>"
            ],
            "image/png": "[encoded data removed]"
          },
          "metadata": {},
          "execution_count": 8
        }
      ]
    },
    {
      "cell_type": "code",
      "source": [
        "# Create arrays of images (x arrays)\n",
        "# Initialize arrays, each should be (XXX, 250, 100, 1)\n",
        "# Use float32 to save RAM\n",
        "\n",
        "test_x = np.float32(np.empty((len(reduced_test_set_x),250,100)))\n",
        "valid_x = np.float32(np.empty((len(reduced_valid_set_x),250,100)))\n",
        "train_x = np.float32(np.empty((len(reduced_train_set_x),250,100)))"
      ],
      "metadata": {
        "id": "wXXp-hXW73WB"
      },
      "execution_count": null,
      "outputs": []
    },
    {
      "cell_type": "code",
      "source": [
        "#reshape arrays into desired resolution and rescale pixel intensities such that\n",
        "#they are between 0 and 1\n",
        "for k in range(len(reduced_test_set_x)):\n",
        "  array = create_image(reduced_test_set_x[k])\n",
        "  test_x[k] = array/255\n",
        "\n",
        "for k in range(len(reduced_valid_set_x)):\n",
        "  array = create_image(reduced_valid_set_x[k])\n",
        "  valid_x[k] = array/255\n",
        "\n",
        "for k in range(len(reduced_train_set_x)):\n",
        "  array = create_image(reduced_train_set_x[k])\n",
        "  train_x[k] = array/255\n",
        "\n",
        "test_y=reduced_test_set_y\n",
        "valid_y=reduced_valid_set_y\n",
        "train_y=reduced_train_set_y"
      ],
      "metadata": {
        "id": "dbzsWOrS7--D"
      },
      "execution_count": null,
      "outputs": []
    },
    {
      "cell_type": "code",
      "source": [
        "# check shape to make sure it is as expected\n",
        "print(test_x.shape)\n",
        "print(test_y.shape)\n",
        "print(train_x.shape)\n",
        "print(train_y.shape)\n",
        "print(valid_x.shape)\n",
        "print(valid_y.shape)"
      ],
      "metadata": {
        "colab": {
          "base_uri": "https://localhost:8080/"
        },
        "id": "HB2cAtcI8CXe",
        "outputId": "280c2475-e595-4e7c-e901-90c803533a51"
      },
      "execution_count": null,
      "outputs": [
        {
          "output_type": "stream",
          "name": "stdout",
          "text": [
            "(18000, 250, 100)\n",
            "(18000,)\n",
            "(17150, 250, 100)\n",
            "(17150,)\n",
            "(2800, 250, 100)\n",
            "(2800,)\n"
          ]
        }
      ]
    },
    {
      "cell_type": "code",
      "source": [
        "import tensorflow as tf\n",
        "from tensorflow.keras import datasets, layers, models\n",
        "import matplotlib.pyplot as plt"
      ],
      "metadata": {
        "id": "nSrJQknf9pyT"
      },
      "execution_count": null,
      "outputs": []
    },
    {
      "cell_type": "code",
      "source": [
        "def create_model():\n",
        "  model= tf.keras.Sequential([\n",
        "            tf.keras.layers.Conv2D(25, (5, 2), strides=(5, 2),padding=\"same\",activation='relu', input_shape=(250, 100, 1)),\n",
        "            tf.keras.layers.MaxPooling2D((2, 2)),\n",
        "            tf.keras.layers.Conv2D(50, (2, 2), activation='relu'),\n",
        "            tf.keras.layers.MaxPooling2D((2, 2)),\n",
        "            tf.keras.layers.Flatten(),\n",
        "            tf.keras.layers.Dense(1, activation='sigmoid')                \n",
        "          ])\n",
        "  model.compile(optimizer='adam',\n",
        "              loss='binary_crossentropy',\n",
        "              metrics=['accuracy'])\n",
        "\n",
        "  return model\n",
        "\n",
        "with tf.device('/device:GPU:0'):\n",
        "#with tpu_strategy.scope():\n",
        "  model = create_model()\n",
        "\n",
        "model.summary()"
      ],
      "metadata": {
        "colab": {
          "base_uri": "https://localhost:8080/"
        },
        "id": "5JS04lo89sR1",
        "outputId": "85a78b8f-6437-4c5e-a3ba-25f3d0250df8"
      },
      "execution_count": null,
      "outputs": [
        {
          "output_type": "stream",
          "name": "stdout",
          "text": [
            "Model: \"sequential\"\n",
            "_________________________________________________________________\n",
            " Layer (type)                Output Shape              Param #   \n",
            "=================================================================\n",
            " conv2d (Conv2D)             (None, 50, 50, 25)        275       \n",
            "                                                                 \n",
            " max_pooling2d (MaxPooling2D  (None, 25, 25, 25)       0         \n",
            " )                                                               \n",
            "                                                                 \n",
            " conv2d_1 (Conv2D)           (None, 24, 24, 50)        5050      \n",
            "                                                                 \n",
            " max_pooling2d_1 (MaxPooling  (None, 12, 12, 50)       0         \n",
            " 2D)                                                             \n",
            "                                                                 \n",
            " flatten (Flatten)           (None, 7200)              0         \n",
            "                                                                 \n",
            " dense (Dense)               (None, 1)                 7201      \n",
            "                                                                 \n",
            "=================================================================\n",
            "Total params: 12,526\n",
            "Trainable params: 12,526\n",
            "Non-trainable params: 0\n",
            "_________________________________________________________________\n"
          ]
        }
      ]
    },
    {
      "cell_type": "code",
      "source": [
        "#train_x=np.reshape(train_x,(54000,250,100,1))\n",
        "#train_y=np.reshape(train_y,(54000,1))\n",
        "train_x=np.reshape(train_x,(len(train_transitions)*train_window,250,100,1))\n",
        "train_y=np.reshape(train_y,(len(train_transitions)*train_window,1))\n",
        "\n",
        "test_x=np.reshape(test_x,(18000,250,100,1))\n",
        "test_y=np.reshape(test_y,(18000,1))\n",
        "\n",
        "valid_x=np.reshape(valid_x,(len(valid_transitions)*valid_window,250,100,1))\n",
        "valid_y=np.reshape(valid_y,(len(valid_transitions)*valid_window,1))\n",
        "\n",
        "print(test_x.shape)\n",
        "print(test_y.shape)\n",
        "print(train_x.shape)\n",
        "print(train_y.shape)\n",
        "print(valid_x.shape)\n",
        "print(valid_y.shape)"
      ],
      "metadata": {
        "colab": {
          "base_uri": "https://localhost:8080/"
        },
        "id": "1VCr8_On9wdX",
        "outputId": "5efa326a-bb2c-45d7-f6a7-0049b5198f9d"
      },
      "execution_count": null,
      "outputs": [
        {
          "output_type": "stream",
          "name": "stdout",
          "text": [
            "(18000, 250, 100, 1)\n",
            "(18000, 1)\n",
            "(17150, 250, 100, 1)\n",
            "(17150, 1)\n",
            "(2800, 250, 100, 1)\n",
            "(2800, 1)\n"
          ]
        }
      ]
    },
    {
      "cell_type": "code",
      "source": [
        "history = model.fit(train_x, train_y, epochs=20,batch_size=256,validation_data=(valid_x, valid_y),verbose=2)"
      ],
      "metadata": {
        "colab": {
          "base_uri": "https://localhost:8080/"
        },
        "id": "dnN2LKnz96Y9",
        "outputId": "73883f9d-0464-4f26-c603-18ae488fd932"
      },
      "execution_count": null,
      "outputs": [
        {
          "output_type": "stream",
          "name": "stdout",
          "text": [
            "Epoch 1/20\n",
            "67/67 - 14s - loss: 0.2069 - accuracy: 0.9304 - val_loss: 0.3630 - val_accuracy: 0.9286 - 14s/epoch - 204ms/step\n",
            "Epoch 2/20\n",
            "67/67 - 2s - loss: 0.0689 - accuracy: 0.9843 - val_loss: 0.1565 - val_accuracy: 0.9464 - 2s/epoch - 26ms/step\n",
            "Epoch 3/20\n",
            "67/67 - 2s - loss: 0.0279 - accuracy: 0.9932 - val_loss: 0.0591 - val_accuracy: 0.9693 - 2s/epoch - 26ms/step\n",
            "Epoch 4/20\n",
            "67/67 - 2s - loss: 0.0121 - accuracy: 0.9967 - val_loss: 0.0340 - val_accuracy: 0.9821 - 2s/epoch - 26ms/step\n",
            "Epoch 5/20\n",
            "67/67 - 2s - loss: 0.0057 - accuracy: 0.9990 - val_loss: 0.0115 - val_accuracy: 0.9982 - 2s/epoch - 26ms/step\n",
            "Epoch 6/20\n",
            "67/67 - 2s - loss: 0.0028 - accuracy: 0.9998 - val_loss: 0.0049 - val_accuracy: 1.0000 - 2s/epoch - 25ms/step\n",
            "Epoch 7/20\n",
            "67/67 - 2s - loss: 0.0019 - accuracy: 0.9998 - val_loss: 0.0033 - val_accuracy: 1.0000 - 2s/epoch - 26ms/step\n",
            "Epoch 8/20\n",
            "67/67 - 2s - loss: 0.0014 - accuracy: 0.9999 - val_loss: 0.0026 - val_accuracy: 1.0000 - 2s/epoch - 35ms/step\n",
            "Epoch 9/20\n",
            "67/67 - 2s - loss: 0.0011 - accuracy: 0.9999 - val_loss: 0.0013 - val_accuracy: 1.0000 - 2s/epoch - 31ms/step\n",
            "Epoch 10/20\n",
            "67/67 - 2s - loss: 9.2483e-04 - accuracy: 0.9999 - val_loss: 0.0012 - val_accuracy: 1.0000 - 2s/epoch - 29ms/step\n",
            "Epoch 11/20\n",
            "67/67 - 2s - loss: 5.7105e-04 - accuracy: 1.0000 - val_loss: 0.0018 - val_accuracy: 1.0000 - 2s/epoch - 36ms/step\n",
            "Epoch 12/20\n",
            "67/67 - 2s - loss: 4.9291e-04 - accuracy: 1.0000 - val_loss: 9.0116e-04 - val_accuracy: 1.0000 - 2s/epoch - 34ms/step\n",
            "Epoch 13/20\n",
            "67/67 - 2s - loss: 3.6763e-04 - accuracy: 1.0000 - val_loss: 8.4652e-04 - val_accuracy: 1.0000 - 2s/epoch - 32ms/step\n",
            "Epoch 14/20\n",
            "67/67 - 2s - loss: 2.8124e-04 - accuracy: 1.0000 - val_loss: 5.2967e-04 - val_accuracy: 1.0000 - 2s/epoch - 30ms/step\n",
            "Epoch 15/20\n",
            "67/67 - 2s - loss: 2.4616e-04 - accuracy: 1.0000 - val_loss: 9.6274e-04 - val_accuracy: 1.0000 - 2s/epoch - 30ms/step\n",
            "Epoch 16/20\n",
            "67/67 - 2s - loss: 2.0254e-04 - accuracy: 1.0000 - val_loss: 4.7023e-04 - val_accuracy: 1.0000 - 2s/epoch - 28ms/step\n",
            "Epoch 17/20\n",
            "67/67 - 2s - loss: 1.8337e-04 - accuracy: 1.0000 - val_loss: 6.2478e-04 - val_accuracy: 1.0000 - 2s/epoch - 28ms/step\n",
            "Epoch 18/20\n",
            "67/67 - 2s - loss: 1.6532e-04 - accuracy: 1.0000 - val_loss: 4.3568e-04 - val_accuracy: 1.0000 - 2s/epoch - 29ms/step\n",
            "Epoch 19/20\n",
            "67/67 - 2s - loss: 1.1905e-04 - accuracy: 1.0000 - val_loss: 2.6783e-04 - val_accuracy: 1.0000 - 2s/epoch - 32ms/step\n",
            "Epoch 20/20\n",
            "67/67 - 2s - loss: 1.0822e-04 - accuracy: 1.0000 - val_loss: 3.2340e-04 - val_accuracy: 1.0000 - 2s/epoch - 33ms/step\n"
          ]
        }
      ]
    },
    {
      "cell_type": "code",
      "source": [
        "# summarize history for accuracy\n",
        "plt.plot(history.history['accuracy'])\n",
        "plt.plot(history.history['val_accuracy'])\n",
        "plt.title('model accuracy')\n",
        "plt.ylabel('accuracy')\n",
        "plt.xlabel('epoch')\n",
        "plt.legend(['train', 'validation'], loc='upper left')\n",
        "plt.show()\n",
        "# summarize history for loss\n",
        "plt.plot(history.history['loss'])\n",
        "plt.plot(history.history['val_loss'])\n",
        "plt.title('model loss')\n",
        "plt.ylabel('loss')\n",
        "plt.xlabel('epoch')\n",
        "plt.legend(['train', 'validation'], loc='upper left')\n",
        "plt.show()"
      ],
      "metadata": {
        "colab": {
          "base_uri": "https://localhost:8080/",
          "height": 573
        },
        "id": "LtA4XowG9-19",
        "outputId": "0d16eef4-f1ef-466d-eb97-19c0d221d92b"
      },
      "execution_count": null,
      "outputs": [
        {
          "output_type": "display_data",
          "data": {
            "text/plain": [
              "<Figure size 432x288 with 1 Axes>"
            ],
            "image/png": "[encoded data removed]"
          },
          "metadata": {
            "needs_background": "light"
          }
        },
        {
          "output_type": "display_data",
          "data": {
            "text/plain": [
              "<Figure size 432x288 with 1 Axes>"
            ],
            "image/png": "[encoded data removed]"
          },
          "metadata": {
            "needs_background": "light"
          }
        }
      ]
    },
    {
      "cell_type": "code",
      "source": [
        "%cd /content/drive/MyDrive/ME592/Models\n",
        "# serialize model to JSON\n",
        "model_json = model.to_json()\n",
        "with open(\"model_task1_reduced.json\", \"w\") as json_file:\n",
        "    json_file.write(model_json)\n",
        "# serialize weights to HDF5\n",
        "model.save_weights(\"model_task1_reduced.h5\")\n",
        "print(\"Saved model to disk\")"
      ],
      "metadata": {
        "colab": {
          "base_uri": "https://localhost:8080/"
        },
        "id": "3zJwRJ4o-DNk",
        "outputId": "a6cc69c8-0d38-4eb8-ca8a-5cc97c31a6e2"
      },
      "execution_count": null,
      "outputs": [
        {
          "output_type": "stream",
          "name": "stdout",
          "text": [
            "/content/drive/MyDrive/ME592/Models\n",
            "Saved model to disk\n"
          ]
        }
      ]
    },
    {
      "cell_type": "code",
      "source": [
        "reduced_test_set_x=[]\n",
        "reduced_test_set_y=[]\n",
        "reduced_train_set_x=[]\n",
        "reduced_train_set_y=[]\n",
        "reduced_validation_set_x=[]\n",
        "reduced_validation_set_y=[]\n",
        "test_set_x=[]\n",
        "test_set_y=[]\n",
        "train_set_x=[]\n",
        "train_set_y=[]\n",
        "valid_set_x=[]\n",
        "valid_set_y=[]\n",
        "history=[]\n",
        "combustion_img_13=[]\n",
        "array=[]"
      ],
      "metadata": {
        "id": "7tfTSJ79-4gR"
      },
      "execution_count": null,
      "outputs": []
    },
    {
      "cell_type": "code",
      "source": [
        "#Test the model by evaluating the third data set, \"test\"\n",
        "test_y_pred=np.rint(model.predict(test_x))\n",
        "plt.plot(test_y)\n",
        "plt.plot(test_y_pred)\n",
        "plt.xlabel('Sample')\n",
        "plt.ylabel('Stability Boolean')\n",
        "plt.legend(['Ground Truth', 'Prediction'], loc='upper right')\n",
        "plt.title('Model Prediction vs Ground Truth, Test Set')\n",
        "plt.show"
      ],
      "metadata": {
        "colab": {
          "base_uri": "https://localhost:8080/",
          "height": 312
        },
        "id": "cxBOevXn-Pd6",
        "outputId": "4fdc5f0a-66fc-4378-9ca4-78cfbb805423"
      },
      "execution_count": null,
      "outputs": [
        {
          "output_type": "execute_result",
          "data": {
            "text/plain": [
              "<function matplotlib.pyplot.show>"
            ]
          },
          "metadata": {},
          "execution_count": 21
        },
        {
          "output_type": "display_data",
          "data": {
            "text/plain": [
              "<Figure size 432x288 with 1 Axes>"
            ],
            "image/png": "[encoded data removed]"
          },
          "metadata": {
            "needs_background": "light"
          }
        }
      ]
    },
    {
      "cell_type": "code",
      "source": [
        "from sklearn.metrics import accuracy_score\n",
        "print(\"accuracy = \", accuracy_score(test_y, test_y_pred))\n",
        "from sklearn.metrics import confusion_matrix\n",
        "print(\"confusion matrix = \") \n",
        "print(confusion_matrix(test_y, test_y_pred))"
      ],
      "metadata": {
        "colab": {
          "base_uri": "https://localhost:8080/"
        },
        "id": "ASJUWuZA8y96",
        "outputId": "711147aa-5f30-4946-dd88-0eb077889736"
      },
      "execution_count": null,
      "outputs": [
        {
          "output_type": "stream",
          "name": "stdout",
          "text": [
            "accuracy =  0.9975555555555555\n",
            "confusion matrix = \n",
            "[[9956   44]\n",
            " [   0 8000]]\n"
          ]
        }
      ]
    },
    {
      "cell_type": "markdown",
      "source": [
        "## Discussion"
      ],
      "metadata": {
        "id": "lqKB8BWDGWKN"
      }
    },
    {
      "cell_type": "markdown",
      "source": [
        "The model shown in \"Task 1 Complete Dataset and 2D CNN Modeling\" has a large number of tuning parameters and was trained on the entire 54,000 point training data set.\n",
        "\n",
        "This model was trained on 17,150 points (instead of 54,000), and it contains 12,526 parameters (instead of 741,975) after adjusting the structure of the CNN. Both of these contribute to much faster training time at the expense of ~0.25% accuracy loss (100% accuracy for the full data set trained more complex model, 99.75% accuracy for this simpler model trained on fewer data points).\n",
        "\n"
      ],
      "metadata": {
        "id": "ZDvPBder859I"
      }
    },
    {
      "cell_type": "markdown",
      "source": [
        "# Task 2"
      ],
      "metadata": {
        "id": "K73CSc-H712T"
      }
    },
    {
      "cell_type": "markdown",
      "source": [
        "## Stacking Images"
      ],
      "metadata": {
        "id": "6NljJ79-u8Ex"
      }
    },
    {
      "cell_type": "code",
      "source": [
        "train_set_x = train_x\n",
        "train_set_y = train_y\n",
        "valid_set_x = valid_x\n",
        "valid_set_y = valid_y\n",
        "test_set_x = test_x\n",
        "test_set_y = test_y"
      ],
      "metadata": {
        "id": "n7PTjB2nClkU"
      },
      "execution_count": null,
      "outputs": []
    },
    {
      "cell_type": "code",
      "source": [
        "import tensorflow as tf\n",
        "for i in [16]: #[4, 8, 12, 16]:\n",
        "  train_set_x_3d = []\n",
        "  train_set_y_3d=[]\n",
        "\n",
        "  for z in range(0,len(train_set_x),i):\n",
        "    RGB = np.dstack((train_set_x[z:z+i]))\n",
        "    train_set_x_3d.append(RGB)\n",
        "    train_set_y_3d.append(train_set_y[z+i-1])\n",
        "\n",
        "  train_set_x_3d=np.array(train_set_x_3d)\n",
        "  train_set_y_3d=np.array(train_set_y_3d)\n",
        "\n",
        "  train_set_x_3d = tf.expand_dims(train_set_x_3d, axis=4)\n",
        "  print(train_set_x_3d.shape)\n",
        "\n",
        "  valid_set_x_3d = []\n",
        "  valid_set_y_3d = []\n",
        "\n",
        "  for z in range(0,len(valid_set_x)-8,i):\n",
        "    RGB = np.dstack((valid_set_x[z:z+i]))\n",
        "    valid_set_x_3d.append(RGB)\n",
        "    valid_set_y_3d.append(valid_set_y[z+i-1])\n",
        "\n",
        "  valid_set_x_3d=np.array(valid_set_x_3d)\n",
        "  valid_set_y_3d=np.array(valid_set_y_3d)\n",
        "\n",
        "  valid_set_x_3d = tf.expand_dims(valid_set_x_3d, axis=4)\n",
        "  print(valid_set_x_3d.shape)\n",
        "\n",
        "  test_set_x_3d = []\n",
        "  test_set_y_3d = []\n",
        "\n",
        "  for z in range(0,len(test_set_x),i):\n",
        "    RGB = np.dstack((test_set_x[z:z+i]))\n",
        "    test_set_x_3d.append(RGB)\n",
        "    test_set_y_3d.append(test_set_y[z+i-1])\n",
        "\n",
        "  test_set_x_3d=np.array(test_set_x_3d)\n",
        "  test_set_y_3d=np.array(test_set_y_3d)\n",
        "\n",
        "  test_set_x_3d = tf.expand_dims(test_set_x_3d, axis=4)\n",
        "  print(test_set_x_3d.shape)\n",
        "\n",
        "\n",
        "  np.save(\"train_set_\"+str(i)+\"_x_3d.npy\",train_set_x_3d)\n",
        "  np.save(\"train_set_\"+str(i)+\"_y_3d.npy\",train_set_y_3d)\n",
        "\n",
        "  np.save(\"valid_set_\"+str(i)+\"_x_3d.npy\",valid_set_x_3d)\n",
        "  np.save(\"valid_set_\"+str(i)+\"_y_3d.npy\",valid_set_y_3d)\n",
        "\n",
        "  np.save(\"test_set_\"+str(i)+\"_x_3d.npy\",test_set_x_3d)\n",
        "  np.save(\"test_set_\"+str(i)+\"_y_3d.npy\",test_set_y_3d)"
      ],
      "metadata": {
        "colab": {
          "base_uri": "https://localhost:8080/"
        },
        "id": "yPAYZdKJ76Di",
        "outputId": "c4a32a2f-a3b5-4636-d889-e569982e5977"
      },
      "execution_count": null,
      "outputs": [
        {
          "output_type": "stream",
          "name": "stdout",
          "text": [
            "(3375, 250, 100, 16, 1)\n",
            "(562, 250, 100, 16, 1)\n",
            "(1125, 250, 100, 16, 1)\n"
          ]
        }
      ]
    },
    {
      "cell_type": "code",
      "source": [
        "import numpy as np\n",
        "import cv2\n",
        "# from google.colab.patches import cv2_imshow\n",
        "import keras\n",
        "from keras.models import Sequential\n",
        "from keras.layers import Dense, Flatten, Conv3D, MaxPooling3D, Dropout, BatchNormalization\n",
        "from tensorflow.keras.utils import to_categorical\n",
        "import tensorflow as tf\n",
        "import matplotlib.pyplot as plt\n",
        "from sklearn import utils"
      ],
      "metadata": {
        "id": "fsuN0yRE749N"
      },
      "execution_count": null,
      "outputs": []
    },
    {
      "cell_type": "markdown",
      "source": [
        "## Stacked Images N = 4 3D CNN"
      ],
      "metadata": {
        "id": "DBK97snQVbbV"
      }
    },
    {
      "cell_type": "code",
      "source": [
        "train_set_x_3d = np.load(\"/content/drive/MyDrive/ME592/3D CNN files/train_set_4_x_3d.npy\")\n",
        "train_set_y_3d = np.load(\"/content/drive/MyDrive/ME592/3D CNN files/train_set_4_y_3d.npy\")\n",
        "\n",
        "valid_set_x_3d = np.load(\"/content/drive/MyDrive/ME592/3D CNN files/valid_set_4_x_3d.npy\")\n",
        "valid_set_y_3d = np.load(\"/content/drive/MyDrive/ME592/3D CNN files/valid_set_4_y_3d.npy\")\n",
        "\n",
        "test_set_x_3d = np.load(\"/content/drive/MyDrive/ME592/3D CNN files/test_set_4_x_3d.npy\")\n",
        "test_set_y_3d = np.load(\"/content/drive/MyDrive/ME592/3D CNN files/test_set_4_y_3d.npy\")"
      ],
      "metadata": {
        "id": "eS2FisfsQozU"
      },
      "execution_count": null,
      "outputs": []
    },
    {
      "cell_type": "code",
      "source": [
        "def create_model():\n",
        "  model= tf.keras.Sequential([\n",
        "            tf.keras.layers.Conv3D(32, kernel_size=(3, 3, 3), activation='relu',input_shape=(250, 100, 4, 1)),\n",
        "            tf.keras.layers.MaxPooling3D(pool_size=(2, 2, 2)),\n",
        "            tf.keras.layers.BatchNormalization(center=True, scale=True),\n",
        "            tf.keras.layers.Dropout(0.5),\n",
        "            tf.keras.layers.Flatten(),\n",
        "            tf.keras.layers.Dense(256, activation='relu'),\n",
        "            tf.keras.layers.Dense(2, activation='softmax')                \n",
        "          ])\n",
        "  #adam = keras.optimizers.Adam(learning_rate=0.001)\n",
        "  #model.compile(loss='binary_crossentropy',optimizer='sgd',metrics=['accuracy'])\n",
        "  model.compile(optimizer='adam',loss = tf.keras.losses.SparseCategoricalCrossentropy(from_logits=True), metrics=['accuracy'])\n",
        "\n",
        "  return model\n",
        "\n",
        "with tf.device('/device:GPU:0'):\n",
        "#with tpu_strategy.scope():\n",
        "  model = create_model()\n",
        "\n",
        "model.summary()"
      ],
      "metadata": {
        "colab": {
          "base_uri": "https://localhost:8080/"
        },
        "id": "hLyodZqcQ0VZ",
        "outputId": "5c6d0fff-51cb-4d38-83dd-9112325d1a5d"
      },
      "execution_count": null,
      "outputs": [
        {
          "output_type": "stream",
          "name": "stdout",
          "text": [
            "Model: \"sequential\"\n",
            "_________________________________________________________________\n",
            " Layer (type)                Output Shape              Param #   \n",
            "=================================================================\n",
            " conv3d (Conv3D)             (None, 248, 98, 2, 32)    896       \n",
            "                                                                 \n",
            " max_pooling3d (MaxPooling3D  (None, 124, 49, 1, 32)   0         \n",
            " )                                                               \n",
            "                                                                 \n",
            " batch_normalization (BatchN  (None, 124, 49, 1, 32)   128       \n",
            " ormalization)                                                   \n",
            "                                                                 \n",
            " dropout (Dropout)           (None, 124, 49, 1, 32)    0         \n",
            "                                                                 \n",
            " flatten (Flatten)           (None, 194432)            0         \n",
            "                                                                 \n",
            " dense (Dense)               (None, 256)               49774848  \n",
            "                                                                 \n",
            " dense_1 (Dense)             (None, 2)                 514       \n",
            "                                                                 \n",
            "=================================================================\n",
            "Total params: 49,776,386\n",
            "Trainable params: 49,776,322\n",
            "Non-trainable params: 64\n",
            "_________________________________________________________________\n"
          ]
        }
      ]
    },
    {
      "cell_type": "code",
      "source": [
        "train_set_x_3d , train_set_y_3d = utils.shuffle(train_set_x_3d, train_set_y_3d)\n",
        "valid_set_x_3d , valid_set_y_3d = utils.shuffle(valid_set_x_3d, valid_set_y_3d)"
      ],
      "metadata": {
        "id": "b7pHXADxAdOK"
      },
      "execution_count": null,
      "outputs": []
    },
    {
      "cell_type": "code",
      "source": [
        "history = model.fit(train_set_x_3d, train_set_y_3d, epochs=5,batch_size=128,validation_data=(valid_set_x_3d, valid_set_y_3d),verbose=1)"
      ],
      "metadata": {
        "colab": {
          "base_uri": "https://localhost:8080/"
        },
        "id": "XjXxynwTSsJe",
        "outputId": "1d2142f3-72de-405f-a881-49d72a8adf5d"
      },
      "execution_count": null,
      "outputs": [
        {
          "output_type": "stream",
          "name": "stdout",
          "text": [
            "Epoch 1/5\n"
          ]
        },
        {
          "output_type": "stream",
          "name": "stderr",
          "text": [
            "/usr/local/lib/python3.7/dist-packages/tensorflow/python/util/dispatch.py:1082: UserWarning: \"`sparse_categorical_crossentropy` received `from_logits=True`, but the `output` argument was produced by a sigmoid or softmax activation and thus does not represent logits. Was this intended?\"\n",
            "  return dispatch_target(*args, **kwargs)\n"
          ]
        },
        {
          "output_type": "stream",
          "name": "stdout",
          "text": [
            "106/106 [==============================] - 25s 198ms/step - loss: 2.0997 - accuracy: 0.9593 - val_loss: 0.2616 - val_accuracy: 0.9627\n",
            "Epoch 2/5\n",
            "106/106 [==============================] - 20s 185ms/step - loss: 2.3841e-04 - accuracy: 0.9999 - val_loss: 0.0238 - val_accuracy: 0.9871\n",
            "Epoch 3/5\n",
            "106/106 [==============================] - 20s 184ms/step - loss: 0.0022 - accuracy: 0.9998 - val_loss: 0.0063 - val_accuracy: 0.9987\n",
            "Epoch 4/5\n",
            "106/106 [==============================] - 20s 186ms/step - loss: 9.8331e-06 - accuracy: 1.0000 - val_loss: 1.0661e-04 - val_accuracy: 1.0000\n",
            "Epoch 5/5\n",
            "106/106 [==============================] - 20s 185ms/step - loss: 6.1514e-06 - accuracy: 1.0000 - val_loss: 3.7803e-05 - val_accuracy: 1.0000\n"
          ]
        }
      ]
    },
    {
      "cell_type": "code",
      "source": [
        "# plot history\n",
        "plt.plot(history.history['loss'], label='train')\n",
        "plt.plot(history.history['val_loss'], label='test')\n",
        "plt.legend()\n",
        "plt.show() "
      ],
      "metadata": {
        "colab": {
          "base_uri": "https://localhost:8080/",
          "height": 265
        },
        "id": "X8eZ0e2JxTVw",
        "outputId": "d8c981f2-c88c-4d6a-f21a-859a4d15957c"
      },
      "execution_count": null,
      "outputs": [
        {
          "output_type": "display_data",
          "data": {
            "text/plain": [
              "<Figure size 432x288 with 1 Axes>"
            ],
            "image/png": "[encoded data removed]"
          },
          "metadata": {
            "needs_background": "light"
          }
        }
      ]
    },
    {
      "cell_type": "code",
      "source": [
        "%cd /content/drive/MyDrive/ME592/Models\n",
        "# serialize model to JSON\n",
        "model_json = model.to_json()\n",
        "with open(\"model_task2_N4.json\", \"w\") as json_file:\n",
        "    json_file.write(model_json)\n",
        "# serialize weights to HDF5\n",
        "model.save_weights(\"model_task2_N4.h5\")\n",
        "print(\"Saved model to disk\")"
      ],
      "metadata": {
        "colab": {
          "base_uri": "https://localhost:8080/"
        },
        "id": "8FYPMNUUx95o",
        "outputId": "a5f678ac-5068-44bc-bda7-67eda07476c1"
      },
      "execution_count": null,
      "outputs": [
        {
          "output_type": "stream",
          "name": "stdout",
          "text": [
            "/content/drive/.shortcut-targets-by-id/14A9iw12Bc8xWO_3nrziSGEk1uDWkLJ3b/ME592/Models\n",
            "Saved model to disk\n"
          ]
        }
      ]
    },
    {
      "cell_type": "code",
      "source": [
        "y_prob=model.predict(test_set_x_3d)\n",
        "predicted_y_3d = y_prob.argmax(axis=-1)\n",
        "plt.plot(test_set_y_3d)\n",
        "plt.plot(predicted_y_3d)\n",
        "# check_acc=(test_y,np.round(predicted_y/100,0))\n",
        "# acc=np.sum(check_acc)/len(test_y)\n",
        "plt.show\n",
        "#print(acc)\n",
        "from sklearn.metrics import accuracy_score\n",
        "print(\"accuracy = \", accuracy_score(test_set_y_3d, predicted_y_3d))\n",
        "from sklearn.metrics import confusion_matrix\n",
        "print(\"confusion matrix = \")\n",
        "print(confusion_matrix(test_set_y_3d, predicted_y_3d))"
      ],
      "metadata": {
        "colab": {
          "base_uri": "https://localhost:8080/",
          "height": 334
        },
        "id": "sMvGrutkTWxG",
        "outputId": "41154bce-9c87-458e-a0d8-19a2778df851"
      },
      "execution_count": null,
      "outputs": [
        {
          "output_type": "stream",
          "name": "stdout",
          "text": [
            "accuracy =  1.0\n",
            "confusion matrix = \n",
            "[[2500    0]\n",
            " [   0 2000]]\n"
          ]
        },
        {
          "output_type": "display_data",
          "data": {
            "text/plain": [
              "<Figure size 432x288 with 1 Axes>"
            ],
            "image/png": "[encoded data removed]"
          },
          "metadata": {
            "needs_background": "light"
          }
        }
      ]
    },
    {
      "cell_type": "markdown",
      "source": [
        "## Stacked Images N = 8 3D CNN"
      ],
      "metadata": {
        "id": "uL0D2WRBV6r0"
      }
    },
    {
      "cell_type": "code",
      "source": [
        "train_set_x_3d = np.load(\"/content/drive/MyDrive/ME592/3D CNN files/train_set_8_x_3d.npy\")\n",
        "train_set_y_3d = np.load(\"/content/drive/MyDrive/ME592/3D CNN files/train_set_8_y_3d.npy\")\n",
        "\n",
        "valid_set_x_3d = np.load(\"/content/drive/MyDrive/ME592/3D CNN files/valid_set_8_x_3d.npy\")\n",
        "valid_set_y_3d = np.load(\"/content/drive/MyDrive/ME592/3D CNN files/valid_set_8_y_3d.npy\")\n",
        "\n",
        "test_set_x_3d = np.load(\"/content/drive/MyDrive/ME592/3D CNN files/test_set_8_x_3d.npy\")\n",
        "test_set_y_3d = np.load(\"/content/drive/MyDrive/ME592/3D CNN files/test_set_8_y_3d.npy\")"
      ],
      "metadata": {
        "id": "5-AA4tOJUvnE"
      },
      "execution_count": null,
      "outputs": []
    },
    {
      "cell_type": "code",
      "source": [
        "def create_model():\n",
        "  model= tf.keras.Sequential([\n",
        "            tf.keras.layers.Conv3D(32, kernel_size=(3, 3, 3), activation='relu',input_shape=(250, 100, 8, 1)),\n",
        "            tf.keras.layers.MaxPooling3D(pool_size=(2, 2, 2)),\n",
        "            tf.keras.layers.BatchNormalization(center=True, scale=True),\n",
        "            tf.keras.layers.Dropout(0.5),\n",
        "            tf.keras.layers.Flatten(),\n",
        "            tf.keras.layers.Dense(256, activation='relu'),\n",
        "            tf.keras.layers.Dense(2, activation='softmax')                \n",
        "          ])\n",
        "  #adam = keras.optimizers.Adam(learning_rate=0.001)\n",
        "  #model.compile(loss='binary_crossentropy',optimizer='sgd',metrics=['accuracy'])\n",
        "  model.compile(optimizer='adam',loss = tf.keras.losses.SparseCategoricalCrossentropy(from_logits=True), metrics=['accuracy'])\n",
        "\n",
        "  return model\n",
        "\n",
        "with tf.device('/device:GPU:0'):\n",
        "#with tpu_strategy.scope():\n",
        "  model = create_model()\n",
        "\n",
        "model.summary()"
      ],
      "metadata": {
        "colab": {
          "base_uri": "https://localhost:8080/"
        },
        "id": "3yhB0p0wWCxY",
        "outputId": "cdab96bd-7001-47a6-b2e8-e77659db01e6"
      },
      "execution_count": null,
      "outputs": [
        {
          "output_type": "stream",
          "name": "stdout",
          "text": [
            "Model: \"sequential\"\n",
            "_________________________________________________________________\n",
            " Layer (type)                Output Shape              Param #   \n",
            "=================================================================\n",
            " conv3d (Conv3D)             (None, 248, 98, 6, 32)    896       \n",
            "                                                                 \n",
            " max_pooling3d (MaxPooling3D  (None, 124, 49, 3, 32)   0         \n",
            " )                                                               \n",
            "                                                                 \n",
            " batch_normalization (BatchN  (None, 124, 49, 3, 32)   128       \n",
            " ormalization)                                                   \n",
            "                                                                 \n",
            " dropout (Dropout)           (None, 124, 49, 3, 32)    0         \n",
            "                                                                 \n",
            " flatten (Flatten)           (None, 583296)            0         \n",
            "                                                                 \n",
            " dense (Dense)               (None, 256)               149324032 \n",
            "                                                                 \n",
            " dense_1 (Dense)             (None, 2)                 514       \n",
            "                                                                 \n",
            "=================================================================\n",
            "Total params: 149,325,570\n",
            "Trainable params: 149,325,506\n",
            "Non-trainable params: 64\n",
            "_________________________________________________________________\n"
          ]
        }
      ]
    },
    {
      "cell_type": "code",
      "source": [
        "train_set_x_3d , train_set_y_3d = utils.shuffle(train_set_x_3d, train_set_y_3d)\n",
        "valid_set_x_3d , valid_set_y_3d = utils.shuffle(valid_set_x_3d, valid_set_y_3d)"
      ],
      "metadata": {
        "id": "KBa9w8GWUcvN"
      },
      "execution_count": null,
      "outputs": []
    },
    {
      "cell_type": "code",
      "source": [
        "history = model.fit(train_set_x_3d, train_set_y_3d, epochs=5,batch_size=32,validation_data=(valid_set_x_3d, valid_set_y_3d),verbose=1)"
      ],
      "metadata": {
        "colab": {
          "base_uri": "https://localhost:8080/"
        },
        "id": "awSqdoprWFrU",
        "outputId": "401a5592-80c0-483f-d38a-bbc8cbca11f1"
      },
      "execution_count": null,
      "outputs": [
        {
          "output_type": "stream",
          "name": "stdout",
          "text": [
            "Epoch 1/5\n"
          ]
        },
        {
          "output_type": "stream",
          "name": "stderr",
          "text": [
            "/usr/local/lib/python3.7/dist-packages/tensorflow/python/util/dispatch.py:1082: UserWarning: \"`sparse_categorical_crossentropy` received `from_logits=True`, but the `output` argument was produced by a sigmoid or softmax activation and thus does not represent logits. Was this intended?\"\n",
            "  return dispatch_target(*args, **kwargs)\n"
          ]
        },
        {
          "output_type": "stream",
          "name": "stdout",
          "text": [
            "211/211 [==============================] - 39s 172ms/step - loss: 0.7437 - accuracy: 0.9941 - val_loss: 1.7067 - val_accuracy: 0.9831\n",
            "Epoch 2/5\n",
            "211/211 [==============================] - 35s 168ms/step - loss: 0.3424 - accuracy: 0.9975 - val_loss: 14.7161 - val_accuracy: 0.8800\n",
            "Epoch 3/5\n",
            "211/211 [==============================] - 35s 167ms/step - loss: 0.0000e+00 - accuracy: 1.0000 - val_loss: 0.0000e+00 - val_accuracy: 1.0000\n",
            "Epoch 4/5\n",
            "211/211 [==============================] - 35s 167ms/step - loss: 0.0000e+00 - accuracy: 1.0000 - val_loss: 0.0000e+00 - val_accuracy: 1.0000\n",
            "Epoch 5/5\n",
            "211/211 [==============================] - 35s 167ms/step - loss: 0.0000e+00 - accuracy: 1.0000 - val_loss: 0.0000e+00 - val_accuracy: 1.0000\n"
          ]
        }
      ]
    },
    {
      "cell_type": "code",
      "source": [
        "# plot history\n",
        "plt.plot(history.history['loss'], label='train')\n",
        "plt.plot(history.history['val_loss'], label='test')\n",
        "plt.legend()\n",
        "plt.show() "
      ],
      "metadata": {
        "colab": {
          "base_uri": "https://localhost:8080/",
          "height": 265
        },
        "id": "-n1UncUkxWQJ",
        "outputId": "f1383c3c-101a-4dc0-efa6-ff094dea04bc"
      },
      "execution_count": null,
      "outputs": [
        {
          "output_type": "display_data",
          "data": {
            "text/plain": [
              "<Figure size 432x288 with 1 Axes>"
            ],
            "image/png": "[encoded data removed]"
          },
          "metadata": {
            "needs_background": "light"
          }
        }
      ]
    },
    {
      "cell_type": "code",
      "source": [
        "%cd /content/drive/MyDrive/ME592/Models\n",
        "# serialize model to JSON\n",
        "model_json = model.to_json()\n",
        "with open(\"model_task2_N8.json\", \"w\") as json_file:\n",
        "    json_file.write(model_json)\n",
        "# serialize weights to HDF5\n",
        "model.save_weights(\"model_task2_N8.h5\")\n",
        "print(\"Saved model to disk\")"
      ],
      "metadata": {
        "colab": {
          "base_uri": "https://localhost:8080/"
        },
        "id": "MPAts2Jbx38X",
        "outputId": "35ad76a8-065f-4b23-d2be-3ed89539720a"
      },
      "execution_count": null,
      "outputs": [
        {
          "output_type": "stream",
          "name": "stdout",
          "text": [
            "/content/drive/.shortcut-targets-by-id/14A9iw12Bc8xWO_3nrziSGEk1uDWkLJ3b/ME592/Models\n",
            "Saved model to disk\n"
          ]
        }
      ]
    },
    {
      "cell_type": "code",
      "source": [
        "y_prob=model.predict(test_set_x_3d)\n",
        "predicted_y_3d = y_prob.argmax(axis=-1)\n",
        "plt.plot(test_set_y_3d)\n",
        "plt.plot(predicted_y_3d)\n",
        "# check_acc=(test_y,np.round(predicted_y/100,0))\n",
        "# acc=np.sum(check_acc)/len(test_y)\n",
        "plt.show\n",
        "#print(acc)\n",
        "from sklearn.metrics import accuracy_score\n",
        "print(\"accuracy = \", accuracy_score(test_set_y_3d, predicted_y_3d))\n",
        "from sklearn.metrics import confusion_matrix\n",
        "print(\"confusion matrix = \")\n",
        "print(confusion_matrix(test_set_y_3d, predicted_y_3d))"
      ],
      "metadata": {
        "colab": {
          "base_uri": "https://localhost:8080/",
          "height": 334
        },
        "id": "6OpvhogNWKdy",
        "outputId": "3d7f364f-cc73-40b9-91ed-31facd197802"
      },
      "execution_count": null,
      "outputs": [
        {
          "output_type": "stream",
          "name": "stdout",
          "text": [
            "accuracy =  1.0\n",
            "confusion matrix = \n",
            "[[1250    0]\n",
            " [   0 1000]]\n"
          ]
        },
        {
          "output_type": "display_data",
          "data": {
            "text/plain": [
              "<Figure size 432x288 with 1 Axes>"
            ],
            "image/png": "[encoded data removed]"
          },
          "metadata": {
            "needs_background": "light"
          }
        }
      ]
    },
    {
      "cell_type": "markdown",
      "source": [
        "## Stacked Images N=12 3D CNN"
      ],
      "metadata": {
        "id": "4rkbtLWqZIPA"
      }
    },
    {
      "cell_type": "code",
      "source": [
        "train_set_x_3d = np.load(\"/content/drive/MyDrive/ME592/3D CNN files/train_set_12_x_3d.npy\")\n",
        "train_set_y_3d = np.load(\"/content/drive/MyDrive/ME592/3D CNN files/train_set_12_y_3d.npy\")\n",
        "\n",
        "valid_set_x_3d = np.load(\"/content/drive/MyDrive/ME592/3D CNN files/valid_set_12_x_3d.npy\")\n",
        "valid_set_y_3d = np.load(\"/content/drive/MyDrive/ME592/3D CNN files/valid_set_12_y_3d.npy\")\n",
        "\n",
        "test_set_x_3d = np.load(\"/content/drive/MyDrive/ME592/3D CNN files/test_set_12_x_3d.npy\")\n",
        "test_set_y_3d = np.load(\"/content/drive/MyDrive/ME592/3D CNN files/test_set_12_y_3d.npy\")"
      ],
      "metadata": {
        "id": "jSMBaZ_EZM2O"
      },
      "execution_count": null,
      "outputs": []
    },
    {
      "cell_type": "code",
      "source": [
        "def create_model():\n",
        "  model= tf.keras.Sequential([\n",
        "            tf.keras.layers.Conv3D(32, kernel_size=(3, 3, 3), activation='relu',input_shape=(250, 100, 12, 1)),\n",
        "            tf.keras.layers.MaxPooling3D(pool_size=(2, 2, 2)),\n",
        "            tf.keras.layers.BatchNormalization(center=True, scale=True),\n",
        "            tf.keras.layers.Dropout(0.5),\n",
        "            tf.keras.layers.Flatten(),\n",
        "            tf.keras.layers.Dense(256, activation='relu'),\n",
        "            tf.keras.layers.Dense(2, activation='softmax')                \n",
        "          ])\n",
        "  #adam = keras.optimizers.Adam(learning_rate=0.001)\n",
        "  #model.compile(loss='binary_crossentropy',optimizer='sgd',metrics=['accuracy'])\n",
        "  model.compile(optimizer='adam',loss = tf.keras.losses.SparseCategoricalCrossentropy(from_logits=True), metrics=['accuracy'])\n",
        "\n",
        "  return model\n",
        "\n",
        "with tf.device('/device:GPU:0'):\n",
        "#with tpu_strategy.scope():\n",
        "  model = create_model()\n",
        "\n",
        "model.summary()"
      ],
      "metadata": {
        "colab": {
          "base_uri": "https://localhost:8080/"
        },
        "id": "CcfC65HhZQFJ",
        "outputId": "f7e88b27-fa26-4956-f586-c607f850af45"
      },
      "execution_count": null,
      "outputs": [
        {
          "output_type": "stream",
          "name": "stdout",
          "text": [
            "Model: \"sequential\"\n",
            "_________________________________________________________________\n",
            " Layer (type)                Output Shape              Param #   \n",
            "=================================================================\n",
            " conv3d (Conv3D)             (None, 248, 98, 10, 32)   896       \n",
            "                                                                 \n",
            " max_pooling3d (MaxPooling3D  (None, 124, 49, 5, 32)   0         \n",
            " )                                                               \n",
            "                                                                 \n",
            " batch_normalization (BatchN  (None, 124, 49, 5, 32)   128       \n",
            " ormalization)                                                   \n",
            "                                                                 \n",
            " dropout (Dropout)           (None, 124, 49, 5, 32)    0         \n",
            "                                                                 \n",
            " flatten (Flatten)           (None, 972160)            0         \n",
            "                                                                 \n",
            " dense (Dense)               (None, 256)               248873216 \n",
            "                                                                 \n",
            " dense_1 (Dense)             (None, 2)                 514       \n",
            "                                                                 \n",
            "=================================================================\n",
            "Total params: 248,874,754\n",
            "Trainable params: 248,874,690\n",
            "Non-trainable params: 64\n",
            "_________________________________________________________________\n"
          ]
        }
      ]
    },
    {
      "cell_type": "code",
      "source": [
        "train_set_x_3d , train_set_y_3d = utils.shuffle(train_set_x_3d, train_set_y_3d)\n",
        "valid_set_x_3d , valid_set_y_3d = utils.shuffle(valid_set_x_3d, valid_set_y_3d)"
      ],
      "metadata": {
        "id": "4BowumPbUeED"
      },
      "execution_count": null,
      "outputs": []
    },
    {
      "cell_type": "code",
      "source": [
        "history = model.fit(train_set_x_3d, train_set_y_3d, epochs=8,batch_size=32,validation_data=(valid_set_x_3d, valid_set_y_3d),verbose=1)"
      ],
      "metadata": {
        "colab": {
          "base_uri": "https://localhost:8080/"
        },
        "id": "UmhfnrewZP7e",
        "outputId": "35056e82-4b18-4a4d-eeaf-af44ea1606c6"
      },
      "execution_count": null,
      "outputs": [
        {
          "output_type": "stream",
          "name": "stdout",
          "text": [
            "Epoch 1/8\n"
          ]
        },
        {
          "output_type": "stream",
          "name": "stderr",
          "text": [
            "/usr/local/lib/python3.7/dist-packages/tensorflow/python/util/dispatch.py:1082: UserWarning: \"`sparse_categorical_crossentropy` received `from_logits=True`, but the `output` argument was produced by a sigmoid or softmax activation and thus does not represent logits. Was this intended?\"\n",
            "  return dispatch_target(*args, **kwargs)\n"
          ]
        },
        {
          "output_type": "stream",
          "name": "stdout",
          "text": [
            "141/141 [==============================] - 29s 180ms/step - loss: 4.8795 - accuracy: 0.9867 - val_loss: 44.1017 - val_accuracy: 0.9960\n",
            "Epoch 2/8\n",
            "141/141 [==============================] - 24s 171ms/step - loss: 0.2099 - accuracy: 0.9991 - val_loss: 45.9625 - val_accuracy: 0.9960\n",
            "Epoch 3/8\n",
            "141/141 [==============================] - 24s 171ms/step - loss: 0.0000e+00 - accuracy: 1.0000 - val_loss: 60.3398 - val_accuracy: 0.9960\n",
            "Epoch 4/8\n",
            "141/141 [==============================] - 24s 171ms/step - loss: 0.5290 - accuracy: 0.9984 - val_loss: 52.4538 - val_accuracy: 0.9947\n",
            "Epoch 5/8\n",
            "141/141 [==============================] - 24s 171ms/step - loss: 0.5930 - accuracy: 0.9987 - val_loss: 346.5296 - val_accuracy: 0.7973\n",
            "Epoch 6/8\n",
            "141/141 [==============================] - 24s 171ms/step - loss: 0.0000e+00 - accuracy: 1.0000 - val_loss: 72.9365 - val_accuracy: 0.9960\n",
            "Epoch 7/8\n",
            "141/141 [==============================] - 24s 171ms/step - loss: 0.0000e+00 - accuracy: 1.0000 - val_loss: 78.5743 - val_accuracy: 0.9960\n",
            "Epoch 8/8\n",
            "141/141 [==============================] - 24s 172ms/step - loss: 0.0000e+00 - accuracy: 1.0000 - val_loss: 84.8427 - val_accuracy: 0.9960\n"
          ]
        }
      ]
    },
    {
      "cell_type": "code",
      "source": [
        "# plot history\n",
        "plt.plot(history.history['loss'], label='train')\n",
        "plt.plot(history.history['val_loss'], label='test')\n",
        "plt.legend()\n",
        "plt.show() "
      ],
      "metadata": {
        "colab": {
          "base_uri": "https://localhost:8080/",
          "height": 265
        },
        "id": "ZTQQkrEzxZg0",
        "outputId": "eb0e59c7-7d3e-42f5-f270-91c7f3b0fe4f"
      },
      "execution_count": null,
      "outputs": [
        {
          "output_type": "display_data",
          "data": {
            "text/plain": [
              "<Figure size 432x288 with 1 Axes>"
            ],
            "image/png": "[encoded data removed]"
          },
          "metadata": {
            "needs_background": "light"
          }
        }
      ]
    },
    {
      "cell_type": "code",
      "source": [
        "%cd /content/drive/MyDrive/ME592/Models\n",
        "# serialize model to JSON\n",
        "model_json = model.to_json()\n",
        "with open(\"model_task2_N12.json\", \"w\") as json_file:\n",
        "    json_file.write(model_json)\n",
        "# serialize weights to HDF5\n",
        "model.save_weights(\"model_task2_N12.h5\")\n",
        "print(\"Saved model to disk\")"
      ],
      "metadata": {
        "colab": {
          "base_uri": "https://localhost:8080/"
        },
        "id": "DVXIUeJPxurU",
        "outputId": "bc2f281b-7515-4305-d477-062bd1426c21"
      },
      "execution_count": null,
      "outputs": [
        {
          "output_type": "stream",
          "name": "stdout",
          "text": [
            "/content/drive/.shortcut-targets-by-id/14A9iw12Bc8xWO_3nrziSGEk1uDWkLJ3b/ME592/Models\n",
            "Saved model to disk\n"
          ]
        }
      ]
    },
    {
      "cell_type": "code",
      "source": [
        "y_prob=model.predict(test_set_x_3d)\n",
        "predicted_y_3d = y_prob.argmax(axis=-1)\n",
        "plt.plot(test_set_y_3d)\n",
        "plt.plot(predicted_y_3d)\n",
        "# check_acc=(test_y,np.round(predicted_y/100,0))\n",
        "# acc=np.sum(check_acc)/len(test_y)\n",
        "plt.show\n",
        "#print(acc)\n",
        "from sklearn.metrics import accuracy_score\n",
        "print(\"accuracy = \", accuracy_score(test_set_y_3d, predicted_y_3d))\n",
        "from sklearn.metrics import confusion_matrix\n",
        "print(\"confusion matrix = \")\n",
        "print(confusion_matrix(test_set_y_3d, predicted_y_3d))"
      ],
      "metadata": {
        "colab": {
          "base_uri": "https://localhost:8080/",
          "height": 334
        },
        "id": "uSpJKry9ZZ9d",
        "outputId": "53955c92-97ed-4c10-9460-0046c538b8c4"
      },
      "execution_count": null,
      "outputs": [
        {
          "output_type": "stream",
          "name": "stdout",
          "text": [
            "accuracy =  0.998\n",
            "confusion matrix = \n",
            "[[830   3]\n",
            " [  0 667]]\n"
          ]
        },
        {
          "output_type": "display_data",
          "data": {
            "text/plain": [
              "<Figure size 432x288 with 1 Axes>"
            ],
            "image/png": "[encoded data removed]"
          },
          "metadata": {
            "needs_background": "light"
          }
        }
      ]
    },
    {
      "cell_type": "code",
      "source": [
        "history = model.fit(train_set_x_3d, train_set_y_3d, epochs=10,batch_size=32,validation_data=(valid_set_x_3d, valid_set_y_3d),verbose=1)"
      ],
      "metadata": {
        "colab": {
          "base_uri": "https://localhost:8080/"
        },
        "id": "lTfPmXAYXxRO",
        "outputId": "9a1a02bf-52f8-4038-9459-e34bf8e22dd3"
      },
      "execution_count": null,
      "outputs": [
        {
          "output_type": "stream",
          "name": "stdout",
          "text": [
            "Epoch 1/10\n"
          ]
        },
        {
          "output_type": "stream",
          "name": "stderr",
          "text": [
            "/usr/local/lib/python3.7/dist-packages/tensorflow/python/util/dispatch.py:1082: UserWarning: \"`sparse_categorical_crossentropy` received `from_logits=True`, but the `output` argument was produced by a sigmoid or softmax activation and thus does not represent logits. Was this intended?\"\n",
            "  return dispatch_target(*args, **kwargs)\n"
          ]
        },
        {
          "output_type": "stream",
          "name": "stdout",
          "text": [
            "141/141 [==============================] - 36s 181ms/step - loss: 1.9288 - accuracy: 0.9889 - val_loss: 34.7442 - val_accuracy: 0.9507\n",
            "Epoch 2/10\n",
            "141/141 [==============================] - 24s 172ms/step - loss: 1.6809e-04 - accuracy: 0.9998 - val_loss: 48.7901 - val_accuracy: 0.9933\n",
            "Epoch 3/10\n",
            "141/141 [==============================] - 24s 172ms/step - loss: 0.0535 - accuracy: 0.9982 - val_loss: 54.9184 - val_accuracy: 0.9960\n",
            "Epoch 4/10\n",
            "141/141 [==============================] - 24s 172ms/step - loss: 0.1137 - accuracy: 0.9989 - val_loss: 43.5995 - val_accuracy: 0.9960\n",
            "Epoch 5/10\n",
            "141/141 [==============================] - 24s 172ms/step - loss: 0.5904 - accuracy: 0.9962 - val_loss: 33.0896 - val_accuracy: 0.9960\n",
            "Epoch 6/10\n",
            "141/141 [==============================] - 24s 172ms/step - loss: 0.8399 - accuracy: 0.9971 - val_loss: 22.2605 - val_accuracy: 0.9933\n",
            "Epoch 7/10\n",
            "141/141 [==============================] - 24s 172ms/step - loss: 0.4539 - accuracy: 0.9982 - val_loss: 53.5066 - val_accuracy: 0.9867\n",
            "Epoch 8/10\n",
            "141/141 [==============================] - 24s 172ms/step - loss: 0.0125 - accuracy: 0.9998 - val_loss: 53.8642 - val_accuracy: 0.9947\n",
            "Epoch 9/10\n",
            "141/141 [==============================] - 24s 173ms/step - loss: 0.0275 - accuracy: 0.9998 - val_loss: 60.3824 - val_accuracy: 0.9960\n",
            "Epoch 10/10\n",
            "141/141 [==============================] - 24s 173ms/step - loss: 1.0477e-04 - accuracy: 1.0000 - val_loss: 66.8640 - val_accuracy: 0.9960\n"
          ]
        }
      ]
    },
    {
      "cell_type": "code",
      "source": [
        "# plot history\n",
        "plt.plot(history.history['loss'], label='train')\n",
        "plt.plot(history.history['val_loss'], label='test')\n",
        "plt.legend()\n",
        "plt.show() "
      ],
      "metadata": {
        "colab": {
          "base_uri": "https://localhost:8080/",
          "height": 269
        },
        "id": "aSzJfkwXX5As",
        "outputId": "32dd19eb-b624-462a-fa68-0388fcb564ba"
      },
      "execution_count": null,
      "outputs": [
        {
          "output_type": "display_data",
          "data": {
            "text/plain": [
              "<Figure size 432x288 with 1 Axes>"
            ],
            "image/png": "[encoded data removed]"
          },
          "metadata": {
            "needs_background": "light"
          }
        }
      ]
    },
    {
      "cell_type": "code",
      "source": [
        "y_prob=model.predict(test_set_x_3d)\n",
        "predicted_y_3d = y_prob.argmax(axis=-1)\n",
        "plt.plot(test_set_y_3d)\n",
        "plt.plot(predicted_y_3d)\n",
        "# check_acc=(test_y,np.round(predicted_y/100,0))\n",
        "# acc=np.sum(check_acc)/len(test_y)\n",
        "plt.show\n",
        "#print(acc)\n",
        "from sklearn.metrics import accuracy_score\n",
        "print(\"accuracy = \", accuracy_score(test_set_y_3d, predicted_y_3d))\n",
        "from sklearn.metrics import confusion_matrix\n",
        "print(\"confusion matrix = \")\n",
        "print(confusion_matrix(test_set_y_3d, predicted_y_3d))"
      ],
      "metadata": {
        "colab": {
          "base_uri": "https://localhost:8080/",
          "height": 334
        },
        "id": "0gak1FfNX7Wn",
        "outputId": "967aea49-117c-4901-b48e-4de0c1a617a7"
      },
      "execution_count": null,
      "outputs": [
        {
          "output_type": "stream",
          "name": "stdout",
          "text": [
            "accuracy =  0.998\n",
            "confusion matrix = \n",
            "[[830   3]\n",
            " [  0 667]]\n"
          ]
        },
        {
          "output_type": "display_data",
          "data": {
            "text/plain": [
              "<Figure size 432x288 with 1 Axes>"
            ],
            "image/png": "[encoded data removed]"
          },
          "metadata": {
            "needs_background": "light"
          }
        }
      ]
    },
    {
      "cell_type": "markdown",
      "source": [
        "## Stacked Images N=16 3D CNN"
      ],
      "metadata": {
        "id": "lqy7uhCGcvom"
      }
    },
    {
      "cell_type": "code",
      "source": [
        "train_set_x_3d = np.load(\"/content/drive/MyDrive/ME592/3D CNN files/train_set_16_x_3d.npy\")\n",
        "train_set_y_3d = np.load(\"/content/drive/MyDrive/ME592/3D CNN files/train_set_16_y_3d.npy\")\n",
        "\n",
        "valid_set_x_3d = np.load(\"/content/drive/MyDrive/ME592/3D CNN files/valid_set_16_x_3d.npy\")\n",
        "valid_set_y_3d = np.load(\"/content/drive/MyDrive/ME592/3D CNN files/valid_set_16_y_3d.npy\")\n",
        "\n",
        "test_set_x_3d = np.load(\"/content/drive/MyDrive/ME592/3D CNN files/test_set_16_x_3d.npy\")\n",
        "test_set_y_3d = np.load(\"/content/drive/MyDrive/ME592/3D CNN files/test_set_16_y_3d.npy\")"
      ],
      "metadata": {
        "id": "t0ztjej_c0gQ"
      },
      "execution_count": null,
      "outputs": []
    },
    {
      "cell_type": "code",
      "source": [
        "def create_model():\n",
        "  model= tf.keras.Sequential([\n",
        "            tf.keras.layers.Conv3D(32, kernel_size=(3, 3, 3), activation='relu',input_shape=(250, 100, 16, 1)),\n",
        "            tf.keras.layers.MaxPooling3D(pool_size=(2, 2, 2)),\n",
        "            tf.keras.layers.BatchNormalization(center=True, scale=True),\n",
        "            tf.keras.layers.Dropout(0.5),\n",
        "            tf.keras.layers.Flatten(),\n",
        "            tf.keras.layers.Dense(256, activation='relu'),\n",
        "            tf.keras.layers.Dense(2, activation='softmax')                \n",
        "          ])\n",
        "  #adam = keras.optimizers.Adam(learning_rate=0.001)\n",
        "  #model.compile(loss='binary_crossentropy',optimizer='sgd',metrics=['accuracy'])\n",
        "  model.compile(optimizer='adam',loss = tf.keras.losses.SparseCategoricalCrossentropy(from_logits=True), metrics=['accuracy'])\n",
        "\n",
        "  return model\n",
        "\n",
        "with tf.device('/device:GPU:0'):\n",
        "#with tpu_strategy.scope():\n",
        "  model = create_model()\n",
        "\n",
        "model.summary()"
      ],
      "metadata": {
        "colab": {
          "base_uri": "https://localhost:8080/"
        },
        "id": "CiO2syLMc1qG",
        "outputId": "99b58dfa-34b2-4612-8b7e-dfd4062b1833"
      },
      "execution_count": null,
      "outputs": [
        {
          "output_type": "stream",
          "name": "stdout",
          "text": [
            "Model: \"sequential\"\n",
            "_________________________________________________________________\n",
            " Layer (type)                Output Shape              Param #   \n",
            "=================================================================\n",
            " conv3d (Conv3D)             (None, 248, 98, 14, 32)   896       \n",
            "                                                                 \n",
            " max_pooling3d (MaxPooling3D  (None, 124, 49, 7, 32)   0         \n",
            " )                                                               \n",
            "                                                                 \n",
            " batch_normalization (BatchN  (None, 124, 49, 7, 32)   128       \n",
            " ormalization)                                                   \n",
            "                                                                 \n",
            " dropout (Dropout)           (None, 124, 49, 7, 32)    0         \n",
            "                                                                 \n",
            " flatten (Flatten)           (None, 1361024)           0         \n",
            "                                                                 \n",
            " dense (Dense)               (None, 256)               348422400 \n",
            "                                                                 \n",
            " dense_1 (Dense)             (None, 2)                 514       \n",
            "                                                                 \n",
            "=================================================================\n",
            "Total params: 348,423,938\n",
            "Trainable params: 348,423,874\n",
            "Non-trainable params: 64\n",
            "_________________________________________________________________\n"
          ]
        }
      ]
    },
    {
      "cell_type": "code",
      "source": [
        "train_set_x_3d , train_set_y_3d = utils.shuffle(train_set_x_3d, train_set_y_3d)\n",
        "valid_set_x_3d , valid_set_y_3d = utils.shuffle(valid_set_x_3d, valid_set_y_3d)"
      ],
      "metadata": {
        "id": "E0-0MjO_UfZ7"
      },
      "execution_count": null,
      "outputs": []
    },
    {
      "cell_type": "code",
      "source": [
        "history = model.fit(train_set_x_3d, train_set_y_3d, epochs=8,batch_size=16,validation_data=(valid_set_x_3d, valid_set_y_3d),verbose=1)"
      ],
      "metadata": {
        "colab": {
          "base_uri": "https://localhost:8080/"
        },
        "id": "fosgxX42c1gD",
        "outputId": "8ca2e358-cabf-4468-b6e9-050ce8b82cb6"
      },
      "execution_count": null,
      "outputs": [
        {
          "output_type": "stream",
          "name": "stdout",
          "text": [
            "Epoch 1/8\n"
          ]
        },
        {
          "output_type": "stream",
          "name": "stderr",
          "text": [
            "/usr/local/lib/python3.7/dist-packages/tensorflow/python/util/dispatch.py:1082: UserWarning: \"`sparse_categorical_crossentropy` received `from_logits=True`, but the `output` argument was produced by a sigmoid or softmax activation and thus does not represent logits. Was this intended?\"\n",
            "  return dispatch_target(*args, **kwargs)\n"
          ]
        },
        {
          "output_type": "stream",
          "name": "stdout",
          "text": [
            "211/211 [==============================] - 48s 178ms/step - loss: 7.5793 - accuracy: 0.9819 - val_loss: 0.0000e+00 - val_accuracy: 1.0000\n",
            "Epoch 2/8\n",
            "211/211 [==============================] - 36s 172ms/step - loss: 0.0035 - accuracy: 0.9997 - val_loss: 0.0000e+00 - val_accuracy: 1.0000\n",
            "Epoch 3/8\n",
            "211/211 [==============================] - 36s 172ms/step - loss: 0.0000e+00 - accuracy: 1.0000 - val_loss: 0.0000e+00 - val_accuracy: 1.0000\n",
            "Epoch 4/8\n",
            "211/211 [==============================] - 36s 172ms/step - loss: 0.0000e+00 - accuracy: 1.0000 - val_loss: 0.0000e+00 - val_accuracy: 1.0000\n",
            "Epoch 5/8\n",
            "211/211 [==============================] - 36s 172ms/step - loss: 0.0000e+00 - accuracy: 1.0000 - val_loss: 0.0000e+00 - val_accuracy: 1.0000\n",
            "Epoch 6/8\n",
            "211/211 [==============================] - 36s 172ms/step - loss: 0.0000e+00 - accuracy: 1.0000 - val_loss: 0.0000e+00 - val_accuracy: 1.0000\n",
            "Epoch 7/8\n",
            "211/211 [==============================] - 36s 172ms/step - loss: 0.0000e+00 - accuracy: 1.0000 - val_loss: 0.0000e+00 - val_accuracy: 1.0000\n",
            "Epoch 8/8\n",
            "211/211 [==============================] - 36s 172ms/step - loss: 0.0000e+00 - accuracy: 1.0000 - val_loss: 0.0000e+00 - val_accuracy: 1.0000\n"
          ]
        }
      ]
    },
    {
      "cell_type": "code",
      "source": [
        "# plot history\n",
        "plt.plot(history.history['loss'], label='train')\n",
        "plt.plot(history.history['val_loss'], label='test')\n",
        "plt.legend()\n",
        "plt.show() "
      ],
      "metadata": {
        "colab": {
          "base_uri": "https://localhost:8080/",
          "height": 265
        },
        "id": "b0GaSsgoxbOy",
        "outputId": "f772e4bc-be26-4dd6-e253-2819a8d592a3"
      },
      "execution_count": null,
      "outputs": [
        {
          "output_type": "display_data",
          "data": {
            "text/plain": [
              "<Figure size 432x288 with 1 Axes>"
            ],
            "image/png": "[encoded data removed]"
          },
          "metadata": {
            "needs_background": "light"
          }
        }
      ]
    },
    {
      "cell_type": "code",
      "source": [
        "%cd /content/drive/MyDrive/ME592/Models\n",
        "# serialize model to JSON\n",
        "model_json = model.to_json()\n",
        "with open(\"model_task2_N16.json\", \"w\") as json_file:\n",
        "    json_file.write(model_json)\n",
        "# serialize weights to HDF5\n",
        "model.save_weights(\"model_task2_N16.h5\")\n",
        "print(\"Saved model to disk\")"
      ],
      "metadata": {
        "colab": {
          "base_uri": "https://localhost:8080/"
        },
        "id": "LSJoB7s1hFMk",
        "outputId": "a256b507-d71a-4646-a1e8-5dc9bf49de14"
      },
      "execution_count": null,
      "outputs": [
        {
          "output_type": "stream",
          "name": "stdout",
          "text": [
            "/content/drive/.shortcut-targets-by-id/14A9iw12Bc8xWO_3nrziSGEk1uDWkLJ3b/ME592/Models\n",
            "Saved model to disk\n"
          ]
        }
      ]
    },
    {
      "cell_type": "code",
      "source": [
        "# Loads the weights\n",
        "model.load_weights('/content/drive/MyDrive/ME592/Models/model_task2_N16.h5')"
      ],
      "metadata": {
        "id": "vGqz3p1vdFjW"
      },
      "execution_count": null,
      "outputs": []
    },
    {
      "cell_type": "code",
      "source": [
        "y_prob=model.predict(test_set_x_3d)\n",
        "predicted_y_3d = y_prob.argmax(axis=-1)\n",
        "plt.plot(test_set_y_3d)\n",
        "plt.plot(predicted_y_3d)\n",
        "# check_acc=(test_y,np.round(predicted_y/100,0))\n",
        "# acc=np.sum(check_acc)/len(test_y)\n",
        "plt.show\n",
        "#print(acc)\n",
        "from sklearn.metrics import accuracy_score\n",
        "print(\"accuracy = \", accuracy_score(test_set_y_3d, predicted_y_3d))\n",
        "from sklearn.metrics import confusion_matrix\n",
        "print(\"confusion matrix = \", confusion_matrix(test_set_y_3d, predicted_y_3d))"
      ],
      "metadata": {
        "colab": {
          "base_uri": "https://localhost:8080/",
          "height": 317
        },
        "id": "DrcjRM5Uc1YU",
        "outputId": "a507b67c-b808-4bbf-bb49-6a54f1325c4d"
      },
      "execution_count": null,
      "outputs": [
        {
          "output_type": "stream",
          "name": "stdout",
          "text": [
            "accuracy =  1.0\n",
            "confusion matrix =  [[625   0]\n",
            " [  0 500]]\n"
          ]
        },
        {
          "output_type": "display_data",
          "data": {
            "text/plain": [
              "<Figure size 432x288 with 1 Axes>"
            ],
            "image/png": "[encoded data removed]"
          },
          "metadata": {
            "needs_background": "light"
          }
        }
      ]
    },
    {
      "cell_type": "markdown",
      "source": [
        "## Discussion\n",
        "In Task 2 we trained our 3D CNN model with a stack of images labelled stable or unstable. The stack consisted of different number of images and 4 set of trained 3D CNN models were evaluated. Our overall observation was that with values N = 4,8,16 the model was trained well and the training and validation losses were observed to converge. Testing on the stacked test data also resulted in very high accuracy ~100% with all the stacks being correctly classified. Only in the case of N=12, even with different parameters, the validation loss did not seem to converge. Yet the model's prediction accuracy was relatively high ~99%. "
      ],
      "metadata": {
        "id": "d0KvaZSVDUaN"
      }
    }
  ]
}